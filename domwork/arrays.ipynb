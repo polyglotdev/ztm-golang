{
 "cells": [
  {
   "cell_type": "markdown",
   "metadata": {},
   "source": [
    "# Arrays\n",
    "\n",
    "## What is an Array?\n",
    "\n",
    "- An array is a collection of items stored at contiguous memory locations.\n",
    "  - The idea is to store multiple items of the same type together.\n",
    "  - Each piece of data is called an element.\n",
    "- To access items in the array, an array index is used\n",
    "  - The index starts at 0, meaning 0 items from the start.\n",
    "- Arrays are fixed-size and cannot be resized.\n",
    "\n",
    "## Creating an Array\n",
    "\n",
    "```go\n",
    "var a [5]int // array of 5 integers\n",
    "b := [5]int{1, 2, 3, 4, 5} // array of 5 integers initialized with values\n",
    "c := [...]int{1, 2, 3, 4, 5} // array of 5 integers initialized with values\n",
    "d := [5]int{1, 2, 3} // array of 5 integers initialized with values leaving some in their zero-value state\n",
    "```\n",
    "\n",
    "## Accessing an Array\n",
    "\n",
    "```go\n",
    "var a [3]int\n",
    "a[0] = 12\n",
    "a[1] = 78\n",
    "a[2] = 50\n",
    "fmt.Println(a) // [12 78 50]\n",
    "```\n",
    "\n",
    "> If you want to read data from an array then it will be on the right side of the assignment operator, and if you want to access data from an array then it will be on the left side of the assignment operator.\n",
    "\n",
    "## Iteration\n",
    "\n",
    "- Good practice to assign the element to a variable during iteration\n",
    "  - Easier to read in large functions/nested loops\n",
    "\n",
    "```go\n",
    "myArray := [...]int{1, 2, 3, 4, 5}\n",
    "for i:= 0; i < len(myArray); i++ {\n",
    "  fmt.Println(myArray[i])\n",
    "}\n",
    "```\n",
    "\n",
    "The difference between compile-time and runtime in programming, including in the context of a language like Go, is fundamental to understanding how programs are developed, executed, and how they behave.\n",
    "\n",
    "### Compile-Time\n",
    "\n",
    "1. **Definition**: Compile-time is the phase in which the source code you write is converted (compiled) into machine code, which can be executed by the computer. In statically-typed languages like Go, this is when the compiler analyzes and translates the code.\n",
    "\n",
    "2. **Activities**:\n",
    "\n",
    "   - **Syntax Checking**: The compiler checks the syntax of the code. Syntax errors (like missing semicolons or misspelled keywords) are identified at this stage.\n",
    "   - **Type Checking**: In statically-typed languages, the compiler verifies data types. It checks whether operations are performed on compatible data types and whether the type rules of the language are being followed.\n",
    "   - **Optimization**: The compiler may optimize the code for performance.\n",
    "   - **Code Generation**: The compiler generates executable code or bytecode from the source code.\n",
    "\n",
    "3. **Errors**: Errors found at this stage are known as compile-time errors. Examples include syntax errors, type mismatch errors, and missing references.\n",
    "\n",
    "4. **Performance**: The operations done at compile-time can affect the performance and efficiency of the generated code, but they don’t affect the runtime performance.\n",
    "\n",
    "### Runtime\n",
    "\n",
    "1. **Definition**: Runtime is the phase when the compiled code is executed on the computer’s hardware. It is the period when the program is running and performing the tasks it was designed to do.\n",
    "\n",
    "2. **Activities**:\n",
    "\n",
    "   - **Execution of Code**: The compiled code is executed step by step.\n",
    "   - **Memory Allocation**: Dynamic memory allocation occurs at runtime (e.g., using `make` or `new` in Go).\n",
    "   - **Input/Output Operations**: The program may interact with the user, handle files, or communicate over a network.\n",
    "   - **Error Handling**: The program encounters and must handle runtime errors, like division by zero, accessing a null pointer, or running out of memory.\n",
    "\n",
    "3. **Errors**: Errors that occur at this stage are known as runtime errors. These errors are not detectable at compile time and often depend on real-time inputs and conditions.\n",
    "\n",
    "4. **Performance**: The efficiency of the runtime code is critical as it directly affects the performance and responsiveness of the program.\n",
    "\n",
    "### Key Differences in Context of Go\n",
    "\n",
    "- **Type Checking**: In Go, the strict type checking happens at compile-time, making the code safer and more reliable, but it also means certain types of errors can only be caught early in the development process.\n",
    "- **Performance Implications**: Compile-time optimizations in Go can make the runtime performance better, but actual execution speed, memory usage, and response times are determined by how the runtime environment handles the compiled code.\n",
    "\n",
    "Understanding the distinction between compile-time and runtime is crucial for debugging, optimizing, and effectively writing code in Go or any other programming language.\n"
   ]
  },
  {
   "cell_type": "code",
   "execution_count": 1,
   "metadata": {},
   "outputs": [
    {
     "name": "stdout",
     "output_type": "stream",
     "text": [
      "a:  [0 0 0 0 0]\n",
      "b:  [1 2 3 4 5]\n",
      "c:  [6 7 8]\n",
      "d:  [9 10 11 0]\n"
     ]
    },
    {
     "data": {
      "text/plain": [
       "16 <nil>"
      ]
     },
     "execution_count": 1,
     "metadata": {},
     "output_type": "execute_result"
    }
   ],
   "source": [
    "import \"fmt\"\n",
    "\n",
    "// uninitialized array\n",
    "var a [5]int\n",
    "fmt.Println(\"a: \", a)\n",
    "\n",
    "b := [5]int{1, 2, 3, 4, 5}\n",
    "fmt.Println(\"b: \", b)\n",
    "\n",
    "// ... means the compiler will count the number of elements\n",
    "c := [...]int{6,7,8}\n",
    "fmt.Println(\"c: \", c)\n",
    "\n",
    "d := [4]int{9, 10, 11}\n",
    "fmt.Println(\"d: \", d)"
   ]
  }
 ],
 "metadata": {
  "kernelspec": {
   "display_name": "Go",
   "language": "go",
   "name": "gophernotes"
  },
  "language_info": {
   "codemirror_mode": "",
   "file_extension": ".go",
   "mimetype": "",
   "name": "go",
   "nbconvert_exporter": "",
   "pygments_lexer": "",
   "version": "go1.21.1"
  }
 },
 "nbformat": 4,
 "nbformat_minor": 2
}
