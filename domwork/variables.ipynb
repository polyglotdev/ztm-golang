{
 "cells": [
  {
   "cell_type": "markdown",
   "metadata": {},
   "source": [
    "# Variables\n",
    "\n",
    "- Variables provide a way to store and access data in your programs.\n",
    "  - Data within can be anything/vary from numbers, strings, lists, dictionaries, etc.\n",
    "  - Alias to data in memory\n",
    "  - Storing data to a variable is called assignment\n",
    "- Variables have multiple components\n",
    "  - Name\n",
    "  - Data(or lack thereof)\n",
    "  - Type\n",
    "\n",
    "> ❗ Variable names can only be used once per scope\n",
    "\n",
    "## Default\n",
    "\n",
    "Variables that are declared but not assigned will have a default value\n",
    "\n",
    "- Strings: `\"\"`\n",
    "- Numbers: `0`\n",
    "- Others: `nil`\n",
    "\n",
    "## Comma ok\n",
    "\n",
    "- \"Comma, ok\" idiom is a special case\n",
    "- Allows a variable to be reassigned in a creation statement\n",
    "\n",
    "```go\n",
    "a, b := 1, 2\n",
    "c, ok := 3, 4\n",
    "x, err := f()\n",
    "```\n",
    "\n",
    "## Naming\n",
    "\n",
    "- Go variable names are in camelCase `variableName`\n",
    "- Use names appropriate for the data\n",
    "- What it is, not what it does\n",
    "- Go convention is to keep the names short and concise\n",
    "\n",
    "## Constants\n",
    "\n",
    "Constants can be created using the `const` keyword\n",
    "Useful when declaring some value that needs to utilized throughout some or all of the program\n",
    "\n",
    "```go\n",
    "const MaxSpeed = 30\n",
    "const MinPurchasePrice = 7.50\n",
    "const AppAuthor = \"Dom Israel Hallan\"\n",
    "```\n"
   ]
  },
  {
   "cell_type": "code",
   "execution_count": 2,
   "metadata": {},
   "outputs": [
    {
     "name": "stdout",
     "output_type": "stream",
     "text": [
      "3 3 3\n",
      "1 2 3 4 5 6 7\n",
      "8 9 10\n"
     ]
    },
    {
     "data": {
      "text/plain": [
       "7 <nil>"
      ]
     },
     "execution_count": 2,
     "metadata": {},
     "output_type": "execute_result"
    }
   ],
   "source": [
    "// Single Creation\n",
    "import \"fmt\"\n",
    "\n",
    "var example = 3\n",
    "var exampleTwo int = 3\n",
    "var example3 int\n",
    "example3 = 3\n",
    "\n",
    "fmt.Println(example, exampleTwo, example3)\n",
    "\n",
    "// compound creation\n",
    "var a, b, c, d int = 1, 2, 3, 4\n",
    "\n",
    "var (\n",
    "    e = 5\n",
    "    f = 6\n",
    "    g = 7\n",
    ")\n",
    "\n",
    "fmt.Println(a, b, c, d, e, f, g)\n",
    "\n",
    "// Create and Assign(short variable declaration)\n",
    "h := 8\n",
    "i, j := 9, 10\n",
    "\n",
    "fmt.Println(h, i, j)\n"
   ]
  },
  {
   "cell_type": "code",
   "execution_count": 3,
   "metadata": {},
   "outputs": [
    {
     "name": "stdout",
     "output_type": "stream",
     "text": [
      "70\n"
     ]
    },
    {
     "data": {
      "text/plain": [
       "3 <nil>"
      ]
     },
     "execution_count": 3,
     "metadata": {},
     "output_type": "execute_result"
    }
   ],
   "source": [
    "// Calculate how many miles you can travel in an hour if you are traveling at 70 miles per hour.\n",
    "// Store the result in a variable named distance.\n",
    "// Print the distance variable.\n",
    "const SPEED = 70\n",
    "distance := SPEED * 1\n",
    "fmt.Println(distance)\n"
   ]
  },
  {
   "cell_type": "code",
   "execution_count": null,
   "metadata": {},
   "outputs": [],
   "source": [
    "const TaxRate = 0.08\n",
    "pp := 400328.78\n",
    "tc := pp * TaxRate"
   ]
  },
  {
   "cell_type": "code",
   "execution_count": 4,
   "metadata": {},
   "outputs": [
    {
     "name": "stdout",
     "output_type": "stream",
     "text": [
      "Good Morning to you!\n"
     ]
    },
    {
     "data": {
      "text/plain": [
       "21 <nil>"
      ]
     },
     "execution_count": 4,
     "metadata": {},
     "output_type": "execute_result"
    }
   ],
   "source": [
    "const (\n",
    "  word1 = \"Good\"\n",
    "  word2 = \"Morning\"\n",
    "  word3 = \"to you!\"\n",
    ")\n",
    "\n",
    "fmt.Println(word1, word2, word3)"
   ]
  }
 ],
 "metadata": {
  "kernelspec": {
   "display_name": "Go",
   "language": "go",
   "name": "gophernotes"
  },
  "language_info": {
   "codemirror_mode": "",
   "file_extension": ".go",
   "mimetype": "",
   "name": "go",
   "nbconvert_exporter": "",
   "pygments_lexer": "",
   "version": "go1.21.1"
  }
 },
 "nbformat": 4,
 "nbformat_minor": 2
}
