{
 "cells": [
  {
   "cell_type": "markdown",
   "metadata": {},
   "source": [
    "# Structs\n",
    "\n",
    "- Structs allow data to be stored in groups\n",
    "  - Structs are similar to classes in other languages\n",
    "  - Each data point in the structure is called a field\n",
    "  - storing data in groups is more efficient\n",
    "- Possible to associate functionality with structures\n",
    "  - Helps organize code and data\n"
   ]
  }
 ],
 "metadata": {
  "kernelspec": {
   "display_name": "Go",
   "language": "go",
   "name": "gophernotes"
  },
  "language_info": {
   "name": "go"
  }
 },
 "nbformat": 4,
 "nbformat_minor": 2
}
