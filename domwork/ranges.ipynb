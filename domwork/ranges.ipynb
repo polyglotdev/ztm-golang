{
 "cells": [
  {
   "cell_type": "markdown",
   "metadata": {},
   "source": [
    "# Ranges\n",
    "\n",
    "A range is a sequence of numbers. The range is defined by a start, a stop, and a step. The start is inclusive, the stop is exclusive, and the step is the difference between each number in the sequence. The default start is 0, the default step is 1, and the default stop is 10.\n"
   ]
  },
  {
   "cell_type": "code",
   "execution_count": 2,
   "metadata": {},
   "outputs": [
    {
     "name": "stdout",
     "output_type": "stream",
     "text": [
      "0 Hello :\n",
      "  'H'\n",
      "  'e'\n",
      "  'l'\n",
      "  'l'\n",
      "  'o'\n",
      "1 world :\n",
      "  'w'\n",
      "  'o'\n",
      "  'r'\n",
      "  'l'\n",
      "  'd'\n",
      "2 ! :\n",
      "  '!'\n"
     ]
    }
   ],
   "source": [
    "import \"fmt\"\n",
    "\n",
    "slice := []string{\"Hello\", \"world\", \"!\"}\n",
    "for i, elem := range slice {\n",
    "    fmt.Println(i, elem, \":\")\n",
    "\n",
    "    for _, ch := range elem {\n",
    "        fmt.Printf(\"  %q\\n\", ch)\n",
    "    }\n",
    "}"
   ]
  }
 ],
 "metadata": {
  "kernelspec": {
   "display_name": "Go",
   "language": "go",
   "name": "gophernotes"
  },
  "language_info": {
   "codemirror_mode": "",
   "file_extension": ".go",
   "mimetype": "",
   "name": "go",
   "nbconvert_exporter": "",
   "pygments_lexer": "",
   "version": "go1.21.1"
  }
 },
 "nbformat": 4,
 "nbformat_minor": 2
}
