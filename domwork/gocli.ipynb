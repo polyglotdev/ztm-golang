{
 "cells": [
  {
   "cell_type": "markdown",
   "metadata": {},
   "source": [
    "# Go CLI\n",
    "\n",
    "- Go toolchain provides the go command line utility\n",
    "- This tool is used to:\n",
    "  - Update Dependencies\n",
    "  - Build and Test projects\n",
    "  - Manage artifacts\n",
    "  - Format source code\n",
    "\n",
    "## Everyday Go Commands\n",
    "\n",
    "- build: builds the project and emits an executable binary\n",
    "  - build -race: checks for concurrency problems\n",
    "- run: runs the projects directly; no output executable\n",
    "- mod: manages modules and dependencies\n",
    "  - mod init: initializes a new module\n",
    "  - mod tidy: adds missing and removes unused dependencies\n",
    "  - mod vendor: copies dependencies into the vendor directory\n",
    "  - mod verify: verifies dependencies have expected content\n",
    "  - mod why: explains why a dependency is needed\n",
    "  - mod graph: prints the module requirement graph\n",
    "  - mod edit: edits go.mod from tools or scripts\n",
    "  - mod download: download modules to local cache\n",
    "- test: runs the project's test suite\n",
    "- fmt: formats all source files(usually automated with the help of the IDE. Mileage may vary)\n"
   ]
  }
 ],
 "metadata": {
  "kernelspec": {
   "display_name": "Go",
   "language": "go",
   "name": "gophernotes"
  },
  "language_info": {
   "name": "go"
  }
 },
 "nbformat": 4,
 "nbformat_minor": 2
}
