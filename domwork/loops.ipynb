{
 "cells": [
  {
   "cell_type": "markdown",
   "metadata": {},
   "source": [
    "# Looping\n",
    "\n",
    "- Its often required to repeat actions in code mote than once or to iterate over the items in a collection\n",
    "  - These are accomplished with loops\n",
    "- Go uses the `for` keyword for repetition\n",
    "  - `for` loops are the only type of loop in Go\n",
    "  - Go does not have a `while` loop\n",
    "  - Go does not have a `do-while` loop\n",
    "  - Go does not have a `for-each` loop\n",
    "\n",
    "> As a caveat Go does have a `range` keyword that can be used to iterate over a collection, but it is not a loop. You also have the `switch` statement that can be used to verify a specific condition and execute code based on that condition.\n",
    "\n",
    "## Basic `for` loop\n",
    "\n",
    "```go\n",
    "for j := 0; j < 10; j++ {\n",
    "  fmt.Println(j)\n",
    "}\n",
    "```\n",
    "\n",
    "- `j := 0` is the initialization statement\n",
    "- `j < 10` is the condition statement\n",
    "- `j++` is the post statement\n",
    "- post statement is executed on each loop iteration\n",
    "- Execution continues as long as the **condition statement is true**\n",
    "\n",
    "> In the condition statement whatever that number value is, the loop will go up to that number but not including that number. So in the example below in code we set the number variable to have a value of 10. The loop will go up to 10 but not including 10. So the loop will go from 0 to 9.\n"
   ]
  },
  {
   "cell_type": "code",
   "execution_count": 3,
   "metadata": {},
   "outputs": [
    {
     "name": "stdout",
     "output_type": "stream",
     "text": [
      "0\n",
      "1\n",
      "2\n",
      "3\n",
      "4\n",
      "5\n",
      "6\n",
      "7\n",
      "8\n",
      "9\n",
      "10\n"
     ]
    }
   ],
   "source": [
    "import \"fmt\"\n",
    "\n",
    "number := 11\n",
    "for i := 0; i < number; i++ {\n",
    "    fmt.Println(i)\n",
    "}\n"
   ]
  },
  {
   "cell_type": "markdown",
   "metadata": {},
   "source": [
    "To create a `while` style loop we can the condition statement, and include the post statement in body of block.\n",
    "\n",
    "```go\n",
    "for i < 10 {\n",
    "  fmt.Println(i)\n",
    "  i++\n",
    "}\n",
    "```\n"
   ]
  },
  {
   "cell_type": "code",
   "execution_count": 6,
   "metadata": {},
   "outputs": [
    {
     "name": "stdout",
     "output_type": "stream",
     "text": [
      "0\n",
      "1\n",
      "2\n",
      "3\n",
      "4\n",
      "5\n",
      "6\n",
      "7\n",
      "8\n",
      "9\n",
      "10\n"
     ]
    }
   ],
   "source": [
    "i := 0\n",
    "for i < 11 {\n",
    "  fmt.Println(i)\n",
    "  i++\n",
    "}\n"
   ]
  },
  {
   "cell_type": "markdown",
   "metadata": {},
   "source": [
    "If in the case you want to be a wild person, we have support for infinite loops in Go. That is done with use using a `for` loop with no initialization, condition, or post statement. To get out of that infinite loop we can use the `break` keyword wrapped in an `if` statement\n",
    "\n",
    "```go\n",
    "for {\n",
    "  if i == 10 {\n",
    "    break\n",
    "  }\n",
    "  fmt.Println(i)\n",
    "  i++\n",
    "}\n",
    "```\n",
    "\n",
    "We also have the `continue` keyword that can be used to skip the current iteration of the loop and move on to the next iteration.\n",
    "\n",
    "```go\n",
    "for i := 0; i < 10; i++ {\n",
    "  if i % 2 == 0 {\n",
    "    continue\n",
    "  }\n",
    "  fmt.Println(i)\n",
    "}\n",
    "```\n"
   ]
  },
  {
   "cell_type": "code",
   "execution_count": 18,
   "metadata": {},
   "outputs": [
    {
     "name": "stdout",
     "output_type": "stream",
     "text": [
      "Sum is 1\n",
      "Sum is 3\n",
      "Sum is 6\n",
      "Sum is 10\n",
      "Sum is 15\n",
      "Sum is 21\n",
      "Sum is 28\n",
      "Sum is 36\n",
      "Sum is 45\n",
      "Sum is 55\n",
      "Decrement Sum is 50\n",
      "Decrement Sum is 45\n",
      "Decrement Sum is 40\n",
      "Decrement Sum is 35\n",
      "Decrement Sum is 30\n",
      "Decrement Sum is 25\n",
      "Decrement Sum is 20\n",
      "Decrement Sum is 15\n",
      "Decrement Sum is 10\n"
     ]
    }
   ],
   "source": [
    "sum := 0\n",
    "for i := 1; i <= 10; i++ {\n",
    "  sum += i\n",
    "  fmt.Println(\"Sum is\", sum)\n",
    "}\n",
    "\n",
    "for sum > 10 {\n",
    "  sum -= 5\n",
    "  fmt.Println(\"Decrement Sum is\", sum)\n",
    "}"
   ]
  },
  {
   "cell_type": "code",
   "execution_count": 21,
   "metadata": {},
   "outputs": [
    {
     "name": "stdout",
     "output_type": "stream",
     "text": [
      "1\n",
      "2\n",
      "Fizz\n",
      "4\n",
      "Buzz\n",
      "Fizz\n",
      "7\n",
      "8\n",
      "Fizz\n",
      "Buzz\n",
      "11\n",
      "Fizz\n",
      "13\n",
      "14\n",
      "FizzBuzz\n",
      "16\n",
      "17\n",
      "Fizz\n",
      "19\n",
      "Buzz\n"
     ]
    }
   ],
   "source": [
    "func FizzBuzz() {\n",
    "  for i := 1; i <= 20; i++ {\n",
    "    if i % 3 == 0 && i % 5 == 0 {\n",
    "      fmt.Println(\"FizzBuzz\")\n",
    "    } else if i % 3 == 0 {\n",
    "      fmt.Println(\"Fizz\")\n",
    "    } else if i % 5 == 0 {\n",
    "      fmt.Println(\"Buzz\")\n",
    "    } else {\n",
    "      fmt.Println(i)\n",
    "    }\n",
    "  }\n",
    "}\n",
    "\n",
    "FizzBuzz()"
   ]
  },
  {
   "cell_type": "code",
   "execution_count": 23,
   "metadata": {},
   "outputs": [
    {
     "name": "stdout",
     "output_type": "stream",
     "text": [
      "1\n",
      "2\n",
      "Fizz\n",
      "4\n",
      "Buzz\n",
      "Fizz\n",
      "7\n",
      "8\n",
      "Fizz\n",
      "Buzz\n",
      "11\n",
      "Fizz\n",
      "13\n",
      "14\n",
      "FizzBuzz\n",
      "16\n",
      "17\n",
      "Fizz\n",
      "19\n",
      "Buzz\n"
     ]
    }
   ],
   "source": [
    "func isDivisibleByThree(num int) bool {\n",
    "    return num % 3 == 0\n",
    "}\n",
    "\n",
    "func isDivisibleByFive(num int) bool {\n",
    "    return num % 5 == 0\n",
    "}\n",
    "\n",
    "func FizzBuzz() {\n",
    "    for i := 1; i <= 20; i++ {\n",
    "        switch {\n",
    "        case isDivisibleByThree(i) && isDivisibleByFive(i):\n",
    "            fmt.Println(\"FizzBuzz\")\n",
    "        case isDivisibleByThree(i):\n",
    "            fmt.Println(\"Fizz\")\n",
    "        case isDivisibleByFive(i):\n",
    "            fmt.Println(\"Buzz\")\n",
    "        default:\n",
    "            fmt.Println(i)\n",
    "        }\n",
    "    }\n",
    "}\n",
    "\n",
    "FizzBuzz()"
   ]
  },
  {
   "cell_type": "markdown",
   "metadata": {},
   "source": [
    "My initial draft of fizzbuzz followed the directions which left something to be desired. Instead of leaving butt-naked logic as is the `i%3==0` I created functions that represented this logic with names like isDivisibleByThree. This makes the code read more like English and is easier to understand\n"
   ]
  },
  {
   "cell_type": "code",
   "execution_count": 30,
   "metadata": {},
   "outputs": [
    {
     "name": "stdout",
     "output_type": "stream",
     "text": [
      "6\n",
      "false\n",
      "false\n",
      "true\n",
      "true\n"
     ]
    },
    {
     "data": {
      "text/plain": [
       "5 <nil>"
      ]
     },
     "execution_count": 30,
     "metadata": {},
     "output_type": "execute_result"
    }
   ],
   "source": [
    "import (\n",
    "  \"fmt\"\n",
    "  \"math/rand\"\n",
    "  \"time\"\n",
    ")\n",
    "\n",
    "/*\n",
    "create a program that can perform:\n",
    "- dice rolls\n",
    "- accept various configurations\n",
    "- number of dice\n",
    "- number of rolls and sides\n",
    "\n",
    "Program should also be able to:\n",
    "- snake eyes: when total of roll is two and the total dice is two\n",
    "- lucky seven: when total of roll is seven and the total dice is two\n",
    "- Even: when total of roll is even\n",
    "- Odd: when total of roll is odd\n",
    "\n",
    "Configurations:\n",
    "- number of dice\n",
    "- number of rolls\n",
    "- number of sides\n",
    "*/\n",
    "\n",
    "\n",
    "\n",
    "\n",
    "\n"
   ]
  }
 ],
 "metadata": {
  "kernelspec": {
   "display_name": "Go",
   "language": "go",
   "name": "gophernotes"
  },
  "language_info": {
   "codemirror_mode": "",
   "file_extension": ".go",
   "mimetype": "",
   "name": "go",
   "nbconvert_exporter": "",
   "pygments_lexer": "",
   "version": "go1.21.1"
  }
 },
 "nbformat": 4,
 "nbformat_minor": 2
}
