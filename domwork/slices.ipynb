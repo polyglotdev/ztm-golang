{
 "cells": [
  {
   "cell_type": "markdown",
   "metadata": {},
   "source": [
    "# Slices\n",
    "\n",
    "- Slices are companion types that work with arrays\n",
    "- They enable a \"view\" into an array\n",
    "  - Views are dynamic and not fixed in size\n",
    "- Functions can accept slice as a function parameter\n",
    "  - Any size array can be operated upon via slice\n",
    "\n",
    "## Slice syntax\n",
    "\n",
    "- Slice syntax can create slices from specific elements in an array or other slice\n",
    "- The start index is inclusive\n",
    "- The end index is exclusive\n",
    "\n",
    "## Slice syntax examples\n",
    "\n",
    "```go\n",
    "mySlice := []int{1, 2, 3, 4, 5}\n",
    "fmt.Println(mySlice[1:3]) // [2 3]\n",
    "```\n"
   ]
  },
  {
   "cell_type": "code",
   "execution_count": 10,
   "metadata": {},
   "outputs": [
    {
     "name": "stdout",
     "output_type": "stream",
     "text": [
      "[1 2 3 4]\n",
      "slice1 all elements: [1 2 3 4]\n",
      "slice2 1 to end: [2 3 4]\n",
      "slice3 0 to 2: [2]\n",
      "slice4 2: [1 2]\n",
      "slice5 2: [2 3]\n"
     ]
    },
    {
     "data": {
      "text/plain": [
       "16 <nil>"
      ]
     },
     "execution_count": 10,
     "metadata": {},
     "output_type": "execute_result"
    }
   ],
   "source": [
    "import \"fmt\"\n",
    "\n",
    "nums := [...]int{1, 2, 3, 4}\n",
    "fmt.Println(nums)\n",
    "\n",
    "// all elements\n",
    "slice1 := nums[:]\n",
    "fmt.Println(\"slice1 all elements:\", slice1)\n",
    "\n",
    "// element 1 to end\n",
    "slice2 := nums[1:]\n",
    "fmt.Println(\"slice2 1 to end:\", slice2)\n",
    "\n",
    "// just third element\n",
    "slice3 := slice2[:1]\n",
    "fmt.Println(\"slice3 0 to 2:\", slice3)\n",
    "\n",
    "// first 2 elements\n",
    "slice4 := nums[:2]\n",
    "fmt.Println(\"slice4 2:\", slice4)\n",
    "\n",
    "// last 2 elements\n",
    "slice5 := nums[1:3]\n",
    "fmt.Println(\"slice5 2:\", slice5)"
   ]
  },
  {
   "cell_type": "markdown",
   "metadata": {},
   "source": [
    "## Dynamic Arrays\n",
    "\n",
    "- Slice can be used to create arrays that can be extended\n",
    "- The `append` function can be used to add elements to a slice\n",
    "\n",
    "```go\n",
    "nums := []int{1, 2, 3}\n",
    "nums = append(nums, 4, 5, 6)\n",
    "\n",
    "// 3 dots can be used to extend a slice with another slice\n",
    "part1 := []int{1, 2, 3}\n",
    "part2 := []int{4, 5, 6}\n",
    "combined := append(part1, part2...)\n",
    "```\n",
    "\n",
    "> Be sure to reassign the `append` function to the slice variable\n",
    "\n",
    "## Preallocation\n",
    "\n",
    "- Slices can be preallocated with specific capacities\n",
    "  - The `make()` function is used to preallocate a slice\n",
    "- **Useful when number of elements is known, but their values are still unknown**\n",
    "\n",
    "```go\n",
    "slice := make([]int, 10)\n",
    "```\n"
   ]
  },
  {
   "cell_type": "code",
   "execution_count": 11,
   "metadata": {},
   "outputs": [
    {
     "name": "stdout",
     "output_type": "stream",
     "text": [
      "combined: [1 2 3 4 5 6]\n"
     ]
    },
    {
     "data": {
      "text/plain": [
       "24 <nil>"
      ]
     },
     "execution_count": 11,
     "metadata": {},
     "output_type": "execute_result"
    }
   ],
   "source": [
    "part1 := []int{1, 2, 3}\n",
    "part2 := []int{4, 5, 6}\n",
    "combined := append(part1, part2...)\n",
    "fmt.Println(\"combined:\", combined)"
   ]
  },
  {
   "cell_type": "code",
   "execution_count": 12,
   "metadata": {},
   "outputs": [
    {
     "name": "stdout",
     "output_type": "stream",
     "text": [
      "0 1\n",
      "1 2\n",
      "2 3\n",
      "3 4\n",
      "4 5\n",
      "5 6\n"
     ]
    }
   ],
   "source": [
    "func iterate(slice []int) {\n",
    "    for i, v := range slice {\n",
    "        fmt.Println(i, v)\n",
    "    }\n",
    "}\n",
    "\n",
    "iterate(combined)\n"
   ]
  },
  {
   "cell_type": "code",
   "execution_count": 19,
   "metadata": {},
   "outputs": [
    {
     "name": "stdout",
     "output_type": "stream",
     "text": [
      "X X X\n",
      "O _ X\n",
      "_ _ O\n"
     ]
    }
   ],
   "source": [
    "import \"strings\"\n",
    "\n",
    "board := [][]string{\n",
    "  {\"_\", \"_\", \"_\"},\n",
    "  {\"_\", \"_\", \"_\"},\n",
    "  {\"_\", \"_\", \"_\"},\n",
    "}\n",
    "\n",
    "board[0][0] = \"X\"\n",
    "board[0][1] = \"X\"\n",
    "board[2][2] = \"O\"\n",
    "board[1][2] = \"X\"\n",
    "board[1][0] = \"O\"\n",
    "board[0][2] = \"X\"\n",
    "\n",
    "for i := 0; i < len(board); i++ {\n",
    "    fmt.Printf(\"%s\\n\", strings.Join(board[i], \" \"))\n",
    "}\n",
    "\n"
   ]
  }
 ],
 "metadata": {
  "kernelspec": {
   "display_name": "Go",
   "language": "go",
   "name": "gophernotes"
  },
  "language_info": {
   "codemirror_mode": "",
   "file_extension": ".go",
   "mimetype": "",
   "name": "go",
   "nbconvert_exporter": "",
   "pygments_lexer": "",
   "version": "go1.21.1"
  }
 },
 "nbformat": 4,
 "nbformat_minor": 2
}
