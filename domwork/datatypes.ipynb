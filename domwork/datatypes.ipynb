{
 "cells": [
  {
   "cell_type": "markdown",
   "metadata": {},
   "source": [
    "# Data Types\n",
    "\n",
    "- All data in programs consists of binary numbers(0s and 1s)\n",
    "- A data type is a way that the program can interpret the binary data\n",
    "- Numbers, letters, and words are all different data types\n",
    "  - Numbers can be integers or floating point\n",
    "  - Letters and words are strings\n",
    "  - True and False are booleans\n",
    "\n",
    "## Elementary Data Types\n",
    "\n",
    "- strings\n",
    "- numbers\n",
    "- booleans\n",
    "\n",
    "## Data Types in Go\n",
    "\n",
    "- Go is a statically typed language\n",
    "- Data types must be defined by the programmer\n",
    "- Go uses type inference to determine what type of data it is working with\n",
    "  - Data types only need to be provided in specific circumstances\n",
    "  - Can always specify the type if desired\n",
    "  - Compiler error if wrong type is used.\n",
    "\n",
    "## Primitive Data Types\n",
    "\n",
    "- All primitive data types in Go are numeric meaning that they are simply a stream of bytes.\n",
    "- Type indicated in code is a convention\n",
    "- It is possible that the data is invalid for the given type\n",
    "- Only applies when working with user input or manually manipulating the binary data\n",
    "\n",
    "## Signed Integers\n",
    "\n",
    "> Signed integers can be either positive or negative\n",
    "\n",
    "| Data Type | Min Value            | Max Value           | Size (bytes) |\n",
    "| --------- | -------------------- | ------------------- | ------------ |\n",
    "| int16     | -32768               | 32767               | 2            |\n",
    "| int32     | -2147483648          | 2147483647          | 4            |\n",
    "| int64     | -9223372036854775808 | 9223372036854775807 | 8            |\n",
    "| int8      | -128                 | 127                 | 1            |\n",
    "\n",
    "## Unsigned Integers\n",
    "\n",
    "> Unsigned integers can only be positive\n",
    "\n",
    "| Data Type | Min Value | Max Value            | Size (bytes) |\n",
    "| --------- | --------- | -------------------- | ------------ |\n",
    "| byte      | 0         | 255                  | 1            |\n",
    "| uint16    | 0         | 65535                | 2            |\n",
    "| uint32    | 0         | 4294967295           | 4            |\n",
    "| uint64    | 0         | 18446744073709551615 | 8            |\n",
    "| uint8     | 0         | 255                  | 1            |\n",
    "| uintptr   | 0         | 18446744073709551615 | 8            |\n",
    "\n",
    "## Other Data Types\n",
    "\n",
    "| Data Type  | Description                     |\n",
    "| ---------- | ------------------------------- |\n",
    "| bool       | true or false                   |\n",
    "| complex128 | 64-bit real and imaginary parts |\n",
    "| complex64  | 32-bit real and imaginary parts |\n",
    "| float32    | 32-bit floating point number    |\n",
    "| float64    | 64-bit floating point number    |\n"
   ]
  },
  {
   "cell_type": "code",
   "execution_count": 2,
   "metadata": {},
   "outputs": [
    {
     "name": "stdout",
     "output_type": "stream",
     "text": [
      "42 3.14\n"
     ]
    }
   ],
   "source": [
    "import \"fmt\"\n",
    "\n",
    "type UserId int\n",
    "type Speed float64\n",
    "\n",
    "func doThings(uid UserId, speed Speed) {\n",
    "    fmt.Println(uid, speed)\n",
    "}\n",
    "\n",
    "doThings(42, 3.14)"
   ]
  }
 ],
 "metadata": {
  "kernelspec": {
   "display_name": "Go",
   "language": "go",
   "name": "gophernotes"
  },
  "language_info": {
   "codemirror_mode": "",
   "file_extension": ".go",
   "mimetype": "",
   "name": "go",
   "nbconvert_exporter": "",
   "pygments_lexer": "",
   "version": "go1.21.1"
  }
 },
 "nbformat": 4,
 "nbformat_minor": 2
}
