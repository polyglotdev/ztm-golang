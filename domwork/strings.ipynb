{
 "cells": [
  {
   "cell_type": "markdown",
   "metadata": {},
   "source": [
    "# Strings\n",
    "\n",
    "## Text Encoding\n",
    "\n",
    "- Textual data in Go uses UTF-8 encoding by default.\n",
    "- Encoding is a way to represent thousands of different\n",
    "- Code pages are tables which use the first few bytes of data to determine which page to use\n",
    "- Each symbol in the code page is called a code point\n",
    "\n",
    "> It is important to understand that on the pages of the code table there are no characters, but only their codes. The code table is a kind of dictionary that allows you to translate the code into a character and vice versa. So symbols are seen in terms of bytes, and bytes are seen in terms of symbols.\n",
    "\n",
    "## Runes\n",
    "\n",
    "- Text is represented using the rune type\n",
    "- Similar to `char` in many other languages\n",
    "- Rune is an alias for `int32`(32-bit integer)\n",
    "- Always a number: will print numeric value unless proper formatting is specified\n",
    "- A rune can represent any symbol\n",
    "  - Letters, numbers, punctuation, emoji, etc.\n",
    "\n",
    "## Strings Explained\n",
    "\n",
    "- String is the data type for storing multiple runes\n",
    "- Strings are just an array of bytes\n",
    "  - There is no null termination with a Go string\n",
    "- When iterating a string, iteration occurs over bytes\n",
    "  - Bytes are not symbols, they are just bytes\n",
    "  - Special iteration required to get runes/symbols\n"
   ]
  },
  {
   "cell_type": "code",
   "execution_count": 2,
   "metadata": {},
   "outputs": [
    {
     "name": "stdout",
     "output_type": "stream",
     "text": [
      "₿\n",
      "0: '₿' [e2 82 bf]\n"
     ]
    }
   ],
   "source": [
    "import \"fmt\"\n",
    "\n",
    "bitcoin := \"\\u20BF\"\n",
    "\n",
    "// print the bitcoin symbol\n",
    "fmt.Println(\"\\u20BF\")\n",
    "\n",
    "// iterate over the bitcoin string\n",
    "for i, c := range bitcoin {\n",
    "    fmt.Printf(\"%d: %q [% x]\\n\", i, c, []byte(string(c)))\n",
    "}\n"
   ]
  },
  {
   "cell_type": "code",
   "execution_count": 5,
   "metadata": {},
   "outputs": [
    {
     "name": "stdout",
     "output_type": "stream",
     "text": [
      "Let's print a backtick: `\n",
      "Let's code in \"Golang!\"\n"
     ]
    },
    {
     "data": {
      "text/plain": [
       "24 <nil>"
      ]
     },
     "execution_count": 5,
     "metadata": {},
     "output_type": "execute_result"
    }
   ],
   "source": [
    "fmt.Println(`Let's print a backtick: ` + \"`\")\n",
    "fmt.Println(`Let's code in \"Golang!\"`)"
   ]
  }
 ],
 "metadata": {
  "kernelspec": {
   "display_name": "Go",
   "language": "go",
   "name": "gophernotes"
  },
  "language_info": {
   "codemirror_mode": "",
   "file_extension": ".go",
   "mimetype": "",
   "name": "go",
   "nbconvert_exporter": "",
   "pygments_lexer": "",
   "version": "go1.21.1"
  }
 },
 "nbformat": 4,
 "nbformat_minor": 2
}
