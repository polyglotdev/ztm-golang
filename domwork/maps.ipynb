{
 "cells": [
  {
   "cell_type": "markdown",
   "metadata": {},
   "source": [
    "# Maps\n",
    "\n",
    "- Maps are commonly used data structure that stores data in a key-value pairs.\n",
    "- Extremely high performance when the key is known\n",
    "- Unordered data structure\n",
    "\n",
    "## Making a Map\n",
    "\n",
    "```go\n",
    "// uninitialized map\n",
    "myMap := make(map[string]int)\n",
    "\n",
    "// initialized map\n",
    "otherMap := map[string]int{\n",
    "    \"one\": 1,\n",
    "    \"two\": 2,\n",
    "}\n",
    "```\n",
    "\n",
    "## Map Operations\n",
    "\n",
    "```go\n",
    "myMap := make(map[string]int)\n",
    "\n",
    "// insert\n",
    "myMap[\"one\"] = 1\n",
    "\n",
    "// read\n",
    "fav := myMap[\"one\"]\n",
    "missing := myMap[\"missing\"] // returns 0/default value\n",
    "\n",
    "// delete\n",
    "delete(myMap, \"one\")\n",
    "\n",
    "// check if key exists\n",
    "price, ok := myMap[\"price\"]\n",
    "if !ok {\n",
    "    fmt.Println(\"key does not exist\")\n",
    "    return\n",
    "}\n",
    "```\n",
    "\n",
    "## Iteration\n",
    "\n",
    "```go\n",
    "myMap := make(map[string]int)\n",
    "for key, value := range myMap {\n",
    "    fmt.Println(key, value)\n",
    "}\n",
    "```\n"
   ]
  }
 ],
 "metadata": {
  "kernelspec": {
   "display_name": "Go",
   "language": "go",
   "name": "gophernotes"
  },
  "language_info": {
   "name": "go"
  }
 },
 "nbformat": 4,
 "nbformat_minor": 2
}
