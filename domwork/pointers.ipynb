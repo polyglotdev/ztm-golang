{
 "cells": [
  {
   "cell_type": "markdown",
   "metadata": {},
   "source": [
    "# Pointers\n",
    "\n",
    "## Memory\n",
    "\n",
    "- Function calls in Go are \"pass by value\"(which means a copy is made)\n",
    "  - A copy of each function argument is made, regardless of size\n",
    "  - Potentially slow for large data structures\n",
    "  - More difficult to manage program state\n",
    "- This can be changed by using pointers\n",
    "\n",
    "## What is a pointer?\n",
    "\n",
    "- Pointers are variables that point to memory locations\n",
    "- The value of the variable itself is a memory address\n",
    "- This allows changing values that exist elsewhere in the program.\n",
    "\n",
    "## Creating pointers\n",
    "\n",
    "- Asterisk(\\*) when used with a type indicates the value is a pointer\n",
    "- Ampersand(&) before a variable name returns the memory address of the variable\n",
    "\n",
    "```go\n",
    "value := 10\n",
    "\n",
    "var valuePtr *int = &value\n",
    "```\n",
    "\n",
    "> so the \\* is when you want a pointer **to** something and the & is when you need a pointer to something that already exists.\n"
   ]
  },
  {
   "cell_type": "code",
   "execution_count": 3,
   "metadata": {},
   "outputs": [
    {
     "name": "stdout",
     "output_type": "stream",
     "text": [
      "10\n",
      "0x1400054e000\n"
     ]
    },
    {
     "data": {
      "text/plain": [
       "14 <nil>"
      ]
     },
     "execution_count": 3,
     "metadata": {},
     "output_type": "execute_result"
    }
   ],
   "source": [
    "import \"fmt\"\n",
    "\n",
    "value := 10\n",
    "fmt.Println(value)\n",
    "\n",
    "var valuePointer *int = &value\n",
    "fmt.Println(valuePointer)"
   ]
  }
 ],
 "metadata": {
  "kernelspec": {
   "display_name": "Go",
   "language": "go",
   "name": "gophernotes"
  },
  "language_info": {
   "codemirror_mode": "",
   "file_extension": ".go",
   "mimetype": "",
   "name": "go",
   "nbconvert_exporter": "",
   "pygments_lexer": "",
   "version": "go1.21.1"
  }
 },
 "nbformat": 4,
 "nbformat_minor": 2
}
