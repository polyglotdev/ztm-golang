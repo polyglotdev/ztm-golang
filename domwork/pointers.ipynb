{
 "cells": [
  {
   "cell_type": "markdown",
   "metadata": {},
   "source": [
    "# Pointers\n",
    "\n",
    "## Memory\n",
    "\n",
    "- Function calls in Go are \"pass by value\"(which means a copy is made)\n",
    "  - A copy of each function argument is made, regardless of size\n",
    "  - Potentially slow for large data structures\n",
    "  - More difficult to manage program state\n",
    "- This can be changed by using pointers\n",
    "\n",
    "## What is a pointer?\n",
    "\n",
    "- Pointers are variables that point to memory locations\n",
    "- The value of the variable itself is a memory address\n",
    "- This allows changing values that exist elsewhere in the program.\n",
    "\n",
    "## Creating pointers\n",
    "\n",
    "- Asterisk(\\*) when used with a type indicates the value is a pointer\n",
    "- Ampersand(&) before a variable name returns the memory address of the variable\n",
    "\n",
    "```go\n",
    "value := 10\n",
    "\n",
    "var valuePtr *int = &value\n",
    "```\n",
    "\n",
    "> so the \\* is when you want a pointer **to** something and the & is when you need a pointer to something that already exists.\n"
   ]
  },
  {
   "cell_type": "code",
   "execution_count": 3,
   "metadata": {},
   "outputs": [
    {
     "name": "stdout",
     "output_type": "stream",
     "text": [
      "10\n",
      "0x1400054e000\n"
     ]
    },
    {
     "data": {
      "text/plain": [
       "14 <nil>"
      ]
     },
     "execution_count": 3,
     "metadata": {},
     "output_type": "execute_result"
    }
   ],
   "source": [
    "import \"fmt\"\n",
    "\n",
    "value := 10\n",
    "fmt.Println(value)\n",
    "\n",
    "var valuePointer *int = &value\n",
    "fmt.Println(valuePointer)"
   ]
  },
  {
   "cell_type": "code",
   "execution_count": 6,
   "metadata": {},
   "outputs": [
    {
     "name": "stdout",
     "output_type": "stream",
     "text": [
      "2\n"
     ]
    },
    {
     "data": {
      "text/plain": [
       "2 <nil>"
      ]
     },
     "execution_count": 6,
     "metadata": {},
     "output_type": "execute_result"
    }
   ],
   "source": [
    "func increment(x *int) {\n",
    "    *x++\n",
    "}\n",
    "\n",
    "i := 1\n",
    "increment(&i)\n",
    "fmt.Println(i)"
   ]
  },
  {
   "cell_type": "markdown",
   "metadata": {},
   "source": [
    "## ChatGPT explanation of Pointers in Go\n",
    "\n",
    "### What are Pointers?\n",
    "\n",
    "A pointer in Go is a variable that stores the memory address of another variable. Rather than holding the actual data, a pointer holds the location of data. This is useful for the various reasons:\n",
    "\n",
    "- **Efficiency**: Pointers allow you to pass large structures like structs to functions without copying the whole structure. This can save memory and performance.\n",
    "- **Mutability**: When you pass a variable to a function using a pointer, the function can modify the original variable. Without pointers, Go passes arguments by value, meaning it creates a copy.\n",
    "\n",
    "## Basic Syntax\n",
    "\n",
    "- **Defining a pointer**: A pointer is defined by placing an asterisk before the type, For example, `*int` is a pointer to an integer.\n",
    "- **Getting a pointer**: The `&` operator is used to get the address of a variable. For example, `&x` returns a pointer to `x`.\n",
    "- **Dereferncing a pointer**: The `*` operator is used to access the value at the address the pointer points to.\n"
   ]
  },
  {
   "cell_type": "code",
   "execution_count": 6,
   "metadata": {},
   "outputs": [
    {
     "name": "stdout",
     "output_type": "stream",
     "text": [
      "a = 10\n",
      "Memory location of a: 0x14000290000\n",
      "b's value: 0x14000290000\n",
      "b's memory address: 0x140003201a8\n",
      "b's value (dereferenced): 10\n",
      "\n",
      "a's value: 20\n",
      "b's value: 0x14000290000\n",
      "b's value (dereferenced): 20\n"
     ]
    },
    {
     "data": {
      "text/plain": [
       "29 <nil>"
      ]
     },
     "execution_count": 6,
     "metadata": {},
     "output_type": "execute_result"
    }
   ],
   "source": [
    "import \"fmt\"\n",
    "\n",
    "a := 10\n",
    "fmt.Println(\"a =\", a)\n",
    "fmt.Println(\"Memory location of a:\", &a)\n",
    "\n",
    "// b is a pointer to the memory address of a\n",
    "b := &a\n",
    "fmt.Println(\"b's value:\", b)\n",
    "fmt.Println(\"b's memory address:\", &b)\n",
    "fmt.Println(\"b's value (dereferenced):\", *b)\n",
    "\n",
    "*b = 20\n",
    "fmt.Println(\"\")\n",
    "fmt.Println(\"a's value:\", a)\n",
    "fmt.Println(\"b's value:\", b)\n",
    "fmt.Println(\"b's value (dereferenced):\", *b)\n"
   ]
  },
  {
   "cell_type": "code",
   "execution_count": 10,
   "metadata": {},
   "outputs": [
    {
     "name": "stdout",
     "output_type": "stream",
     "text": [
      "Inside swap:\n",
      "a = 256\n",
      "b = 767\n"
     ]
    }
   ],
   "source": [
    "func swap(a, b *int) {\n",
    "    temp := *a\n",
    "    *a = *b\n",
    "    *b = temp\n",
    "    fmt.Println(\"Inside swap:\")\n",
    "    fmt.Println(\"a =\", *a)\n",
    "    fmt.Println(\"b =\", *b)\n",
    "}\n",
    "\n",
    "a := 767\n",
    "b := 256\n",
    "swap(&a, &b)\n",
    "\n"
   ]
  },
  {
   "cell_type": "code",
   "execution_count": 12,
   "metadata": {},
   "outputs": [
    {
     "name": "stdout",
     "output_type": "stream",
     "text": [
      "{Elijah 21 Student}\n",
      "{Elijah 22 Student}\n"
     ]
    },
    {
     "data": {
      "text/plain": [
       "20 <nil>"
      ]
     },
     "execution_count": 12,
     "metadata": {},
     "output_type": "execute_result"
    }
   ],
   "source": [
    "type Person struct {\n",
    "  name string\n",
    "  age int\n",
    "  occupation string\n",
    "}\n",
    "\n",
    "func birthday(p *Person) {\n",
    "  p.age++\n",
    "}\n",
    "\n",
    "elijah := Person{\"Elijah\", 21, \"Student\"}\n",
    "fmt.Println(elijah)\n",
    "\n",
    "birthday(&elijah)\n",
    "fmt.Println(elijah)"
   ]
  },
  {
   "cell_type": "code",
   "execution_count": 13,
   "metadata": {},
   "outputs": [
    {
     "name": "stdout",
     "output_type": "stream",
     "text": [
      "15\n"
     ]
    },
    {
     "data": {
      "text/plain": [
       "3 <nil>"
      ]
     },
     "execution_count": 13,
     "metadata": {},
     "output_type": "execute_result"
    }
   ],
   "source": [
    "func ArraySum(arr *[5]int) int {\n",
    "    sum := 0\n",
    "    for _, v := range arr {\n",
    "        sum += v\n",
    "    }\n",
    "    return sum\n",
    "}\n",
    "\n",
    "arr := [5]int{1, 2, 3, 4, 5}\n",
    "fmt.Println(ArraySum(&arr))"
   ]
  },
  {
   "cell_type": "markdown",
   "metadata": {},
   "source": [
    "## Linked Lists\n",
    "\n",
    "A linked list is a fundamental data structure in computer science, commonly used in many programming languages, including Go. Let's break down what a linked list is and then how you can implement one in Go.\n",
    "\n",
    "## What is a Linked List?\n",
    "\n",
    "A linked list is a sequence of elements, where each element is linked to the next one. Each element in a linked list is typically called a \"node\". A basic node contains two pieces of information:\n",
    "\n",
    "1. **Data**: The value or data that stored in the node.\n",
    "2. **Next**: A pointer to the next node in the list.\n",
    "\n",
    "The first node is known as the \"head\" of the list, and the last node is known as the \"tail\". The tail node's next pointer is set to `nil` to indicate the end of the list.\n",
    "\n",
    "## Types of Linked Lists\n",
    "\n",
    "- **Singly Linked List**: Each node has data and a pointer to the next node.\n",
    "- **Doubly Linked Lists**: Each node has data and two pointers, one to the next node and one to previous node.\n",
    "\n",
    "## Why use Linked Lists?\n",
    "\n",
    "- **Dynamic Size**: Linked lists can easily grow and shrink in size.\n",
    "- **Efficient Insertions/Deletions**: The can add or remove elements without reallocating or reorganizing the entire data structure.\n",
    "\n",
    "## Implementation\n",
    "\n",
    "1. **Define the Node Structure**: Define the a struct to represent a node in the list\n",
    "2. **Define the Linked List**: You might want a struct to represent the whole list, often starting with just the head node.\n",
    "3. **Implement basic operations like adding a node, printing the list, etc**\n"
   ]
  },
  {
   "cell_type": "code",
   "execution_count": 16,
   "metadata": {},
   "outputs": [
    {
     "name": "stdout",
     "output_type": "stream",
     "text": [
      "1\n",
      "2\n",
      "3\n"
     ]
    }
   ],
   "source": [
    "type Node struct {\n",
    "  Data int\n",
    "  Next *Node\n",
    "}\n",
    "\n",
    "type LinkedList struct {\n",
    "  Head *Node\n",
    "}\n",
    "\n",
    "func (ll *LinkedList) Append(data int) {\n",
    "  newNode := &Node{Data: data, Next: nil}\n",
    "  if ll.Head == nil {\n",
    "    ll.Head = newNode\n",
    "  } else {\n",
    "    current := ll.Head\n",
    "    for current.Next != nil {\n",
    "      current = current.Next\n",
    "    }\n",
    "    current.Next = newNode\n",
    "  }\n",
    "}\n",
    "\n",
    "func (ll *LinkedList) Print() {\n",
    "  current := ll.Head\n",
    "  for current != nil {\n",
    "    fmt.Println(current.Data)\n",
    "    current = current.Next\n",
    "  }\n",
    "}\n",
    "\n",
    "func (ll *LinkedList) Delete(data int) {\n",
    "  if ll.Head == nil {\n",
    "    return\n",
    "  }\n",
    "  if ll.Head.Data == data {\n",
    "    ll.Head = ll.Head.Next\n",
    "  }\n",
    "  current := ll.Head\n",
    "  for current.Next != nil {\n",
    "    if current.Next.Data == data {\n",
    "      current.Next = current.Next.Next\n",
    "    } else {\n",
    "      current = current.Next\n",
    "    }\n",
    "  }\n",
    "}\n",
    "\n",
    "func (ll *LinkedList) Reverse() {\n",
    "  var prev *Node = nil\n",
    "  current := ll.Head\n",
    "  for current != nil {\n",
    "    next := current.Next\n",
    "    current.Next = prev\n",
    "    prev = current\n",
    "    current = next\n",
    "  }\n",
    "  ll.Head = prev\n",
    "}\n",
    "\n",
    "ll := &LinkedList{}\n",
    "ll.Append(1)\n",
    "ll.Append(2)\n",
    "ll.Append(3)\n",
    "ll.Print()"
   ]
  }
 ],
 "metadata": {
  "kernelspec": {
   "display_name": "Go",
   "language": "go",
   "name": "gophernotes"
  },
  "language_info": {
   "codemirror_mode": "",
   "file_extension": ".go",
   "mimetype": "",
   "name": "go",
   "nbconvert_exporter": "",
   "pygments_lexer": "",
   "version": "go1.21.1"
  }
 },
 "nbformat": 4,
 "nbformat_minor": 2
}
