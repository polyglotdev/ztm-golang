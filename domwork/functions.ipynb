{
 "cells": [
  {
   "cell_type": "markdown",
   "metadata": {},
   "source": [
    "# Functions\n",
    "\n",
    "- Functions are the most basic building blocks of Go programs\n",
    "- Allows functionality to be isolated, which makes programs easier to:\n",
    "  - Test, debug, extend, modify, read, write, and document\n",
    "- Functions are simple: they take data as input and return data as output\n",
    "  - Input and output of data is optional because sometimes functions don't return anything or take any input\n",
    "- Functions are also first-class citizens in Go. What this means is, functions can be:\n",
    "  - Assigned to variables\n",
    "  - Passed as arguments to other functions\n",
    "  - Returned from other functions\n",
    "  - Stored in data structures\n",
    "\n",
    "## Creating Functions\n",
    "\n",
    "Functions have/need a name, a list of parameters, an optional list of return values, and a body:\n",
    "\n",
    "```go\n",
    "func Add(x int, y int) int {\n",
    "    return x + y\n",
    "}\n",
    "```\n",
    "\n",
    "The name of the function is Add. The parameters are x and y, both of type int. The return value is an int. The body of the function is the code between the curly braces.\n",
    "\n",
    "In Go the comments that come before a function are used to describe the function. These comments are called function comments. They are used by the godoc tool to generate documentation for the function.\n",
    "\n",
    "```go\n",
    "// Add takes two integers and returns the sum of them.\n",
    "func Add(x, y int) int {\n",
    "  sum := x + y\n",
    "  return sum\n",
    "}\n",
    "```\n",
    "\n",
    "> Your function names should be descriptive in what it does. This is important because it makes your code easier to read and understand.\n"
   ]
  },
  {
   "cell_type": "code",
   "execution_count": 4,
   "metadata": {},
   "outputs": [
    {
     "name": "stdout",
     "output_type": "stream",
     "text": [
      "5\n",
      "3\n"
     ]
    },
    {
     "data": {
      "text/plain": [
       "2 <nil>"
      ]
     },
     "execution_count": 4,
     "metadata": {},
     "output_type": "execute_result"
    }
   ],
   "source": [
    "import \"fmt\"\n",
    "\n",
    "// Maths takes the two integers and the sort of math to be done and returns the result\n",
    "func Maths(a int, b int, op string) int {\n",
    "    switch op {\n",
    "        case \"+\":\n",
    "            return a + b\n",
    "        case \"-\":\n",
    "            return a - b\n",
    "        case \"*\":\n",
    "            return a * b\n",
    "        case \"/\":\n",
    "            return a / b\n",
    "        default:\n",
    "            return 0\n",
    "    }\n",
    "}\n",
    "\n",
    "five := Maths(2, 3, \"+\")\n",
    "three := Maths(10, 7, \"-\")\n",
    "\n",
    "fmt.Println(five)\n",
    "fmt.Println(three)"
   ]
  },
  {
   "cell_type": "code",
   "execution_count": 9,
   "metadata": {},
   "outputs": [
    {
     "name": "stdout",
     "output_type": "stream",
     "text": [
      "Hello, Ezra\n",
      "12\n",
      "baker's dozen: 13\n",
      "another baker's dozen: 13\n"
     ]
    },
    {
     "data": {
      "text/plain": [
       "26 <nil>"
      ]
     },
     "execution_count": 9,
     "metadata": {},
     "output_type": "execute_result"
    }
   ],
   "source": [
    "// Double takes in an and returns that integer multiplied by 2\n",
    "func Double(a int) int {\n",
    "    return a * 2\n",
    "}\n",
    "\n",
    "// Add takes in two integers and returns the sum of those integers\n",
    "func Add(a int, b int) int {\n",
    "    return a + b\n",
    "}\n",
    "\n",
    "// Greet takes in a name and returns a greeting with that name\n",
    "func Greet(name string) string {\n",
    "    return \"Hello, \" + name\n",
    "}\n",
    "\n",
    "greeting := Greet(\"Ezra\")\n",
    "fmt.Println(greeting)\n",
    "\n",
    "dozen := Double(6)\n",
    "fmt.Println(dozen)\n",
    "\n",
    "bakersDozen := Add(dozen, 1)\n",
    "fmt.Println(\"baker's dozen:\", bakersDozen)\n",
    "\n",
    "anotherBakersDozen := Add(Double(6), 1)\n",
    "fmt.Println(\"another baker's dozen:\", anotherBakersDozen)\n"
   ]
  }
 ],
 "metadata": {
  "kernelspec": {
   "display_name": "Go",
   "language": "go",
   "name": "gophernotes"
  },
  "language_info": {
   "codemirror_mode": "",
   "file_extension": ".go",
   "mimetype": "",
   "name": "go",
   "nbconvert_exporter": "",
   "pygments_lexer": "",
   "version": "go1.21.1"
  }
 },
 "nbformat": 4,
 "nbformat_minor": 2
}
